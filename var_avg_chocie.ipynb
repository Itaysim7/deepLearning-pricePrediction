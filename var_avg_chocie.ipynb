{
 "cells": [
  {
   "cell_type": "code",
   "execution_count": 2,
   "metadata": {},
   "outputs": [
    {
     "name": "stdout",
     "output_type": "stream",
     "text": [
      "avg_train: 222483.62697065243\n",
      "var_train: 11425199834.210613\n",
      "var_test: 11065594439.37833\n"
     ]
    }
   ],
   "source": [
    "import numpy as np\n",
    "import pandas as pd\n",
    "from sklearn.model_selection import train_test_split\n",
    "import tensorflow.compat.v1 as tf\n",
    "\n",
    "tf.disable_v2_behavior()\n",
    "\n",
    "# Take all the data from the CSV file.and split it to price and mat of all fitchers\n",
    "data=pd.read_csv('Daegu_Real_Estate_data_28_feature.csv')\n",
    "data_y=data['SalePrice']\n",
    "data_x=data.drop('SalePrice',axis = 1)\n",
    "\n",
    "#HallWayType change text values to numrical values.\n",
    "data_x['HallwayType'] =data_x['HallwayType'].astype('category')\n",
    "data_x['HallwayType'] =data_x['HallwayType'].cat.reorder_categories(['corridor','mixed','terraced'],ordered=True)\n",
    "data_x['HallwayType'] =data_x['HallwayType'].cat.codes\n",
    "\n",
    "#HeatingType change text values to numrical values.\n",
    "data_x['HeatingType'] =data_x['HeatingType'].astype('category')\n",
    "data_x['HeatingType'] =data_x['HeatingType'].cat.reorder_categories(['individual_heating','central_heating'],ordered=True)\n",
    "data_x['HeatingType'] =data_x['HeatingType'].cat.codes\n",
    "\n",
    "#AptManageType change text values to numrical values.\n",
    "data_x['AptManageType'] =data_x['AptManageType'].astype('category')\n",
    "data_x['AptManageType'] =data_x['AptManageType'].cat.reorder_categories(['self_management','management_in_trust'],ordered=True)\n",
    "data_x['AptManageType'] =data_x['AptManageType'].cat.codes\n",
    "\n",
    "#TimeToBusStop change text values to numrical values.\n",
    "data_x['TimeToSubway'] =data_x['TimeToSubway'].astype('category')\n",
    "data_x['TimeToSubway'] =data_x['TimeToSubway'].cat.reorder_categories(['no_bus_stop_nearby','15min~20min','10min~15min',\"5min~10min\",\"0-5min\"],ordered=True)\n",
    "data_x['TimeToSubway'] =data_x['TimeToSubway'].cat.codes\n",
    "\n",
    "#TimeToSubway change text values to numrical values.\n",
    "data_x['TimeToBusStop'] =data_x['TimeToBusStop'].astype('category')\n",
    "data_x['TimeToBusStop'] =data_x['TimeToBusStop'].cat.reorder_categories(['10min~15min','5min~10min','0~5min'],ordered=True)\n",
    "data_x['TimeToBusStop'] =data_x['TimeToBusStop'].cat.codes\n",
    "\n",
    "data_x_scaled=(data_x-data_x.mean())/data_x.std()#normalization \n",
    "\n",
    "x_train,x_test,y_train,y_test = train_test_split(data_x_scaled,data_y,test_size=0.3,random_state=1)\n",
    "\n",
    "new_x_train=np.array(x_train)\n",
    "new_y_train = np.array(y_train)\n",
    "new_x_test = np.array(x_test)\n",
    "new_y_test = np.array(y_test)\n",
    "\n",
    "#what will happend if we will predict the average\n",
    "\n",
    "#check for avg train\n",
    "avg_train=sum(new_y_train)/len(new_y_train)\n",
    "print(\"avg_train:\",avg_train)\n",
    "#check for var train in compare to loss function\n",
    "var_train=0\n",
    "for i in range(0,len(new_y_train)):\n",
    "    var_train=var_train+(new_y_train[i]-avg_train)**2\n",
    "print(\"var_train:\",var_train/len(new_y_train))\n",
    "#check for var test in compare to test error\n",
    "var_test=0\n",
    "for i in range(0,len(new_y_test)):\n",
    "    var_test=var_test+(new_y_test[i]-avg_train)**2\n",
    "print(\"var_test:\",var_test/len(new_y_test))\n",
    "\n"
   ]
  },
  {
   "cell_type": "code",
   "execution_count": null,
   "metadata": {},
   "outputs": [],
   "source": []
  },
  {
   "cell_type": "code",
   "execution_count": null,
   "metadata": {},
   "outputs": [],
   "source": []
  },
  {
   "cell_type": "code",
   "execution_count": null,
   "metadata": {},
   "outputs": [],
   "source": []
  }
 ],
 "metadata": {
  "kernelspec": {
   "display_name": "'TensorFlow-GPU'",
   "language": "python",
   "name": "tensorflow"
  },
  "language_info": {
   "codemirror_mode": {
    "name": "ipython",
    "version": 3
   },
   "file_extension": ".py",
   "mimetype": "text/x-python",
   "name": "python",
   "nbconvert_exporter": "python",
   "pygments_lexer": "ipython3",
   "version": "3.7.6"
  }
 },
 "nbformat": 4,
 "nbformat_minor": 4
}
